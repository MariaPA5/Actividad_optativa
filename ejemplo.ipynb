{
 "cells": [
  {
   "cell_type": "markdown",
   "metadata": {},
   "source": [
    "# Mi primer Notebook!"
   ]
  },
  {
   "cell_type": "markdown",
   "metadata": {},
   "source": [
    "2do B. Padilla Alonso, Maria"
   ]
  },
  {
   "cell_type": "code",
   "execution_count": 2,
   "metadata": {},
   "outputs": [
    {
     "name": "stdout",
     "output_type": "stream",
     "text": [
      "hola mundo\n"
     ]
    }
   ],
   "source": [
    "print(\"hola mundo\")"
   ]
  },
  {
   "cell_type": "markdown",
   "metadata": {},
   "source": [
    "## Mis primeros descriptivos con pandas"
   ]
  },
  {
   "cell_type": "markdown",
   "metadata": {},
   "source": [
    "Importa la biblioteca pandas, utilizada para manipular y analizar datos estructurados en Python."
   ]
  },
  {
   "cell_type": "code",
   "execution_count": 1,
   "metadata": {},
   "outputs": [],
   "source": [
    "import pandas  # Importa la biblioteca pandas, que se utiliza para la manipulación y el análisis de datos estructurados en Python."
   ]
  },
  {
   "cell_type": "markdown",
   "metadata": {},
   "source": [
    "Crea un DataFrame de pandas con datos de edades y pesos a partir de un diccionario proporcionado.\n",
    "\n",
    "\n",
    "\n",
    "\n",
    "\n",
    "\n"
   ]
  },
  {
   "cell_type": "code",
   "execution_count": null,
   "metadata": {},
   "outputs": [],
   "source": [
    "# Importa la biblioteca pandas, que es esencial para el manejo y análisis de datos estructurados.\n",
    "import pandas as pd\n",
    "\n",
    "# Define un diccionario llamado 'datos' con dos claves: 'edad' y 'peso'. \n",
    "# Cada clave está asociada con una lista de valores. \n",
    "# 'edad' representa edades de personas (u objetos), y 'peso' representa los pesos correspondientes.\n",
    "datos = {\n",
    "    \"edad\": [8, 9, 10, 11, 12],\n",
    "    \"peso\": [30, 32, 35, 37, 40]\n",
    "}\n",
    "\n",
    "# Convierte el diccionario 'datos' en un DataFrame de pandas, que es una estructura tabular \n",
    "# similar a una hoja de cálculo de Excel o una tabla de base de datos.\n",
    "df = pd.DataFrame(datos)"
   ]
  },
  {
   "cell_type": "markdown",
   "metadata": {},
   "source": [
    "Calcula y muestra la media y desviación estándar de las columnas \"edad\" y \"peso\" de un DataFrame.\n",
    "\n",
    "\n",
    "\n",
    "\n",
    "\n",
    "\n"
   ]
  },
  {
   "cell_type": "code",
   "execution_count": 7,
   "metadata": {},
   "outputs": [
    {
     "name": "stdout",
     "output_type": "stream",
     "text": [
      "Media de Edad: 10.0\n",
      "Desviacion Tipica de Edad: 1.5811388300841898\n",
      "Media de Peso: 34.8\n",
      "Desviacion Tipica de Peso: 3.9623225512317903\n"
     ]
    }
   ],
   "source": [
    "# Calcula la media (promedio) de la columna \"edad\" en el DataFrame y la almacena en la variable 'media_edad'.\n",
    "media_edad = df[\"edad\"].mean()\n",
    "\n",
    "# Calcula la desviación típica (medida de dispersión) de la columna \"edad\" en el DataFrame y la almacena en la variable 'desviacion_tipica_edad'.\n",
    "desviacion_tipica_edad = df[\"edad\"].std()\n",
    "\n",
    "# Calcula la media (promedio) de la columna \"peso\" en el DataFrame y la almacena en la variable 'media_peso'.\n",
    "media_peso = df[\"peso\"].mean()\n",
    "\n",
    "# Calcula la desviación típica (medida de dispersión) de la columna \"peso\" en el DataFrame y la almacena en la variable 'desviacion_tipica_peso'.\n",
    "desviacion_tipica_peso = df[\"peso\"].std()\n",
    "\n",
    "# Imprime en consola el valor de la media de la edad calculada.\n",
    "print(\"Media de Edad:\", media_edad)\n",
    "\n",
    "# Imprime en consola el valor de la desviación típica de la edad calculada.\n",
    "print(\"Desviacion Tipica de Edad:\", desviacion_tipica_edad)\n",
    "\n",
    "# Imprime en consola el valor de la media del peso calculada.\n",
    "print(\"Media de Peso:\", media_peso)\n",
    "\n",
    "# Imprime en consola el valor de la desviación típica del peso calculada.\n",
    "print(\"Desviacion Tipica de Peso:\", desviacion_tipica_peso)"
   ]
  }
 ],
 "metadata": {
  "kernelspec": {
   "display_name": "Python 3",
   "language": "python",
   "name": "python3"
  },
  "language_info": {
   "codemirror_mode": {
    "name": "ipython",
    "version": 3
   },
   "file_extension": ".py",
   "mimetype": "text/x-python",
   "name": "python",
   "nbconvert_exporter": "python",
   "pygments_lexer": "ipython3",
   "version": "3.11.9"
  }
 },
 "nbformat": 4,
 "nbformat_minor": 2
}
